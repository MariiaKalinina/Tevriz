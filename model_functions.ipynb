{
  "nbformat": 4,
  "nbformat_minor": 0,
  "metadata": {
    "colab": {
      "provenance": [],
      "authorship_tag": "ABX9TyM6YhSBj4L8Q4Nj5269z+fP",
      "include_colab_link": true
    },
    "kernelspec": {
      "name": "python3",
      "display_name": "Python 3"
    },
    "language_info": {
      "name": "python"
    }
  },
  "cells": [
    {
      "cell_type": "markdown",
      "metadata": {
        "id": "view-in-github",
        "colab_type": "text"
      },
      "source": [
        "<a href=\"https://colab.research.google.com/github/MariiaKalinina/Tevriz/blob/main/model_functions.ipynb\" target=\"_parent\"><img src=\"https://colab.research.google.com/assets/colab-badge.svg\" alt=\"Open In Colab\"/></a>"
      ]
    },
    {
      "cell_type": "code",
      "source": [
        "import numpy as np"
      ],
      "metadata": {
        "id": "CWscU8HjY4jp"
      },
      "execution_count": 1,
      "outputs": []
    },
    {
      "cell_type": "code",
      "execution_count": 2,
      "metadata": {
        "id": "azkvEMv5VkFc"
      },
      "outputs": [],
      "source": [
        "def Likhteneker(phi, lam):\n",
        "\n",
        "    lst = []\n",
        "    for i, j in zip(phi, lam):\n",
        "        sum = i*np.log(j)\n",
        "        lst.append(sum)\n",
        "\n",
        "    L_likht = 1\n",
        "    for i in lst:\n",
        "        L_likht *= np.exp(i)\n",
        "#     print('TC Likhteneker: ', L_likht)\n",
        "    return L_likht\n",
        "\n",
        "\n",
        "\n",
        "def upper_winner(phi, lam):\n",
        "    lst = []\n",
        "    for i, j in zip(phi, lam):\n",
        "        sum = i * j\n",
        "        lst.append(sum)\n",
        "\n",
        "    Up_W = 0\n",
        "    for i in lst:\n",
        "        Up_W += i\n",
        "#     print('TC Upper Wiener: ', Up_W)\n",
        "    return Up_W\n",
        "\n",
        "\n",
        "def lower_winner(phi, lam):\n",
        "    lst = []\n",
        "    for i, j in zip(phi, lam):\n",
        "        sum = i / j\n",
        "        lst.append(sum)\n",
        "\n",
        "    Lo_W = 0\n",
        "    for i in lst:\n",
        "        Lo_W += i\n",
        "    Lo_W **=-1\n",
        "#     print('TC Lower Wiener: ', Lo_W)\n",
        "    return Lo_W\n",
        "\n",
        "def Average_Winner(phi, lam):\n",
        "    return np.mean([upper_winner(phi, lam), lower_winner(phi, lam)])\n",
        "\n",
        "\n",
        "def Upper_Hashin_Strikman(phi, lam):\n",
        "    L0 = max(lam)\n",
        "    f = 1 / 3  # Границы ХШ - частный случай ОСП, тело сравние - мин.матрица=верхняя граница; флюид=нижняя граница.\n",
        "                # Все включения только сферические АО=1, F деполяризации 1/3\n",
        "    HS_comp1, HS_comp2 = [], []\n",
        "\n",
        "    for i, j in zip(phi, lam):\n",
        "        termc_3 = i * j / (L0 * (1-f)+j * f)\n",
        "        termz_3 = i / (L0 * (1-f)+j * f)\n",
        "\n",
        "        termc_12 = i * j / (L0 * (1+f) / 2+j * (1-f) / 2)\n",
        "        termz_12 = i / (L0 * (1+f) / 2+j * (1-f) / 2)\n",
        "\n",
        "        termc_all = (termc_3+2 * termc_12) / 3\n",
        "        termz_all = (termz_3+2 * termz_12) / 3\n",
        "\n",
        "        t16 = termc_all\n",
        "        t15 = termz_all\n",
        "\n",
        "        HS_comp1.append(t16)  # параллельная компонента ТС\n",
        "        HS_comp2.append(t15)  # перпендикулярная компонента ТС\n",
        "    i = 0\n",
        "    for k in HS_comp1:\n",
        "        i += k\n",
        "    j = 0\n",
        "    for k in HS_comp2:\n",
        "        j += k\n",
        "\n",
        "    L_eff = i / j\n",
        "    # print('TC Upper Hashin-Strikman:', L_eff)\n",
        "    return L_eff\n",
        "\n",
        "\n",
        "def Lower_Hashin_Strikman(phi, lam):\n",
        "    L0 = min(lam)\n",
        "    f = 1 / 3  # Границы ХШ - частный случай ОСП, тело сравние - мин.матрица=верхняя граница; флюид=нижняя граница.\n",
        "                # Все включения только сферические АО=1, F деполяризации 1/3\n",
        "    HS_comp1, HS_comp2 = [], []\n",
        "\n",
        "    for i, j in zip(phi, lam):\n",
        "        termc_3 = i * j / (L0 * (1-f)+j * f)\n",
        "        termz_3 = i / (L0 * (1-f)+j * f)\n",
        "\n",
        "        termc_12 = i * j / (L0 * (1+f) / 2+j * (1-f) / 2)\n",
        "        termz_12 = i / (L0 * (1+f) / 2+j * (1-f) / 2)\n",
        "\n",
        "        termc_all = (termc_3+2 * termc_12) / 3\n",
        "        termz_all = (termz_3+2 * termz_12) / 3\n",
        "\n",
        "        t16 = termc_all\n",
        "        t15 = termz_all\n",
        "\n",
        "        HS_comp1.append(t16)  # параллельная компонента ТС\n",
        "        HS_comp2.append(t15)  # перпендикулярная компонента ТС\n",
        "    i = 0\n",
        "    for k in HS_comp1:\n",
        "        i += k\n",
        "    j = 0\n",
        "    for k in HS_comp2:\n",
        "        j += k\n",
        "\n",
        "    L_eff = i / j\n",
        "    return L_eff\n",
        "\n",
        "def Average_Hashin_Strikman(phi, lam):\n",
        "    return np.mean([Lower_Hashin_Strikman(phi, lam), Upper_Hashin_Strikman(phi, lam)])\n",
        "\n"
      ]
    },
    {
      "cell_type": "code",
      "source": [],
      "metadata": {
        "id": "H8CKZEKPYzwU"
      },
      "execution_count": null,
      "outputs": []
    }
  ]
}